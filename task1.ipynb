{
 "cells": [
  {
   "cell_type": "code",
   "execution_count": 1,
   "metadata": {},
   "outputs": [],
   "source": [
    "import mmap\n",
    "from random import randint\n",
    "from sys import getsizeof\n",
    "import os\n",
    "from datetime import datetime\n",
    "import math\n",
    "from tqdm import tqdm\n",
    "import numpy as np\n",
    "import time\n",
    "import threading\n",
    "import concurrent.futures as ft\n",
    "import multiprocessing"
   ]
  },
  {
   "cell_type": "code",
   "execution_count": 2,
   "metadata": {},
   "outputs": [
    {
     "data": {
      "text/plain": [
       "(32, 32)"
      ]
     },
     "execution_count": 2,
     "metadata": {},
     "output_type": "execute_result"
    }
   ],
   "source": [
    "getsizeof(2 ** 32), getsizeof(2 ** 50)"
   ]
  },
  {
   "cell_type": "code",
   "execution_count": 3,
   "metadata": {},
   "outputs": [],
   "source": [
    "def create_data(filename='numbers.txt', size=17179869184):\n",
    "    \"\"\"\n",
    "    Генерация чисел и запись в файл.\n",
    "    filename - имя файла;\n",
    "    size - минимальный размер файла.\n",
    "    \"\"\"\n",
    "    length = 0\n",
    "    count = 0\n",
    "    with open(filename, 'w') as f:\n",
    "        while length < size:\n",
    "            st = f\"{randint(2 ** 32, 2 ** 50)}\\n\"\n",
    "            f.write(st)\n",
    "            length += getsizeof(st)\n",
    "            count += 1\n",
    "            if count % 100000000 == 0:\n",
    "                print(length / (8 * 1048576), count)\n",
    "    print(\"Total count of numbers: \", count)"
   ]
  },
  {
   "cell_type": "code",
   "execution_count": 4,
   "metadata": {},
   "outputs": [
    {
     "name": "stdout",
     "output_type": "stream",
     "text": [
      "775.0170210599899 100000000\n",
      "1550.0345447063446 200000000\n",
      "Total count of numbers:  264252199\n",
      "CPU times: user 8min 57s, sys: 20.5 s, total: 9min 17s\n",
      "Wall time: 9min 52s\n"
     ]
    }
   ],
   "source": [
    "%%time\n",
    "create_data()\n"
   ]
  },
  {
   "cell_type": "markdown",
   "metadata": {},
   "source": [
    "### Последовательное чтение"
   ]
  },
  {
   "cell_type": "code",
   "execution_count": 5,
   "metadata": {},
   "outputs": [
    {
     "name": "stdout",
     "output_type": "stream",
     "text": [
      "30000000\n",
      "60000000\n",
      "90000000\n",
      "120000000\n",
      "150000000\n",
      "180000000\n",
      "210000000\n",
      "240000000\n",
      "148754336297275047145047 1125899906312296 4296273272\n",
      "CPU times: user 6min, sys: 6 s, total: 6min 6s\n",
      "Wall time: 6min 10s\n"
     ]
    }
   ],
   "source": [
    "%%time\n",
    "with open(\"numbers.txt\", \"r\") as f:\n",
    "    line = \" \"\n",
    "    s = 0\n",
    "    mxN = float(\"-inf\")\n",
    "    mnN = float(\"inf\")\n",
    "    count = 0\n",
    "    while line:\n",
    "        count += 1\n",
    "        line = f.readline()\n",
    "        if not line.strip().isnumeric():\n",
    "            break\n",
    "        n = int(line.strip())\n",
    "        s += n\n",
    "        mxN = max(n, mxN)\n",
    "        mnN = min(n, mnN)\n",
    "        \n",
    "        if count % 30_000_000 == 0:\n",
    "            print(count)\n",
    "\n",
    "print(s, mxN, mnN)"
   ]
  },
  {
   "cell_type": "markdown",
   "metadata": {},
   "source": [
    "### MMap и последовательное чтение"
   ]
  },
  {
   "cell_type": "code",
   "execution_count": 6,
   "metadata": {},
   "outputs": [
    {
     "name": "stdout",
     "output_type": "stream",
     "text": [
      "30000000\n",
      "60000000\n",
      "90000000\n",
      "120000000\n",
      "150000000\n",
      "180000000\n",
      "210000000\n",
      "240000000\n",
      "148754336297275047145047 1125899906312296 4296273272\n",
      "CPU times: user 6min 9s, sys: 3.42 s, total: 6min 12s\n",
      "Wall time: 6min 15s\n"
     ]
    }
   ],
   "source": [
    "%%time\n",
    "f_name = \"numbers.txt\"\n",
    "with open(f_name, 'r+b') as f:\n",
    "    with mmap.mmap(f.fileno(), length=0, offset=0, access=mmap.ACCESS_READ) as mm:\n",
    "        line = \" \"\n",
    "        s = 0\n",
    "        mxN = float(\"-inf\")\n",
    "        mnN = float(\"inf\")\n",
    "        count = 0\n",
    "        while line:\n",
    "            count += 1\n",
    "            line = mm.readline()\n",
    "            if not line.strip().decode().isnumeric():\n",
    "                break\n",
    "            n = int(line.strip().decode())\n",
    "            s += n\n",
    "            mxN = max(n, mxN)\n",
    "            mnN = min(n, mnN)\n",
    "\n",
    "            if count % 30_000_000 == 0:\n",
    "                print(count)\n",
    "\n",
    "print(s, mxN, mnN)             "
   ]
  },
  {
   "cell_type": "markdown",
   "metadata": {},
   "source": [
    "### Многопоточное"
   ]
  },
  {
   "cell_type": "code",
   "execution_count": null,
   "metadata": {},
   "outputs": [],
   "source": [
    "%%time\n",
    "import concurrent.futures\n",
    "\n",
    "\n",
    "n_workers = 8\n",
    "\n",
    "def get_numbers(f, length):\n",
    "    ls = []\n",
    "    for i in range(length):\n",
    "        line = f.readline()\n",
    "        if line.strip():\n",
    "            ls.append(int(line.strip()))\n",
    "    return iter(ls)\n",
    "    \n",
    "def get_statistics(ls):\n",
    "    ls = list(ls)\n",
    "    return sum(ls), min(ls) if len(ls) else float(\"inf\"), max(ls) if len(ls) else float(\"-inf\")\n",
    "\n",
    "with open('numbers.txt', 'r+b') as f:\n",
    "    with mmap.mmap(f.fileno(), length=0, access=mmap.ACCESS_READ) as mm:\n",
    "        line = \" \"\n",
    "        delt = int(count / n_workers)\n",
    "        ls = (get_numbers(mm, delt) for _ in range(0, count, delt))\n",
    "        \n",
    "        with concurrent.futures.ThreadPoolExecutor(max_workers=n_workers) as executor:\n",
    "            arr = executor.map(get_statistics, ls)\n",
    "        \n",
    "        ans = 0\n",
    "        mxN = float(\"-inf\")\n",
    "        mnN = float(\"inf\")\n",
    "        for s, mn, mx in arr:\n",
    "            ans += s\n",
    "            mxN = max(mx, mxN)\n",
    "            mnN = min(mn, mnN)\n",
    "        print(ans, mxN, mnN)"
   ]
  }
 ],
 "metadata": {
  "kernelspec": {
   "display_name": "Python 3",
   "language": "python",
   "name": "python3"
  },
  "language_info": {
   "codemirror_mode": {
    "name": "ipython",
    "version": 3
   },
   "file_extension": ".py",
   "mimetype": "text/x-python",
   "name": "python",
   "nbconvert_exporter": "python",
   "pygments_lexer": "ipython3",
   "version": "3.8.2"
  }
 },
 "nbformat": 4,
 "nbformat_minor": 4
}

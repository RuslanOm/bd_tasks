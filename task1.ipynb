{
 "cells": [
  {
   "cell_type": "code",
   "execution_count": 59,
   "metadata": {},
   "outputs": [],
   "source": [
    "import mmap\n",
    "from random import randint\n",
    "from sys import getsizeof\n",
    "import os\n",
    "from datetime import datetime\n",
    "import math\n",
    "from tqdm import tqdm\n",
    "import numpy as np\n",
    "import time"
   ]
  },
  {
   "cell_type": "code",
   "execution_count": 36,
   "metadata": {},
   "outputs": [
    {
     "data": {
      "text/plain": [
       "(32, 32)"
      ]
     },
     "execution_count": 36,
     "metadata": {},
     "output_type": "execute_result"
    }
   ],
   "source": [
    "getsizeof(2 ** 30), getsizeof(2 ** 40)"
   ]
  },
  {
   "cell_type": "code",
   "execution_count": 49,
   "metadata": {},
   "outputs": [],
   "source": [
    "def create_data(filename='numbers.txt', size=512*1024*1024):\n",
    "    low = 0\n",
    "    high = 2 ** 32 - 1\n",
    "        \n",
    "    with open(filename, 'wb') as f:\n",
    "        for _ in tqdm(range(size)):\n",
    "            f.write(np.random.randint(low, high, dtype= np.uint32).tobytes())\n",
    "    print(\"Total count of numbers: \", size)"
   ]
  },
  {
   "cell_type": "code",
   "execution_count": 50,
   "metadata": {},
   "outputs": [
    {
     "name": "stderr",
     "output_type": "stream",
     "text": [
      "100%|██████████| 536870912/536870912 [48:39<00:00, 183879.60it/s]  "
     ]
    },
    {
     "name": "stdout",
     "output_type": "stream",
     "text": [
      "Total count of numbers:  536870912\n"
     ]
    },
    {
     "name": "stderr",
     "output_type": "stream",
     "text": [
      "\n"
     ]
    }
   ],
   "source": [
    "create_data()"
   ]
  },
  {
   "cell_type": "markdown",
   "metadata": {},
   "source": [
    "### Последовательное чтение"
   ]
  },
  {
   "cell_type": "code",
   "execution_count": 57,
   "metadata": {},
   "outputs": [
    {
     "name": "stderr",
     "output_type": "stream",
     "text": [
      "100%|██████████| 536870912/536870912 [08:59<00:00, 994879.85it/s] "
     ]
    },
    {
     "name": "stdout",
     "output_type": "stream",
     "text": [
      "1152935057642425099 4294967292 35\n"
     ]
    },
    {
     "name": "stderr",
     "output_type": "stream",
     "text": [
      "\n"
     ]
    }
   ],
   "source": [
    "%%time\n",
    "with open(\"numbers.txt\", \"rb\") as f:\n",
    "    buf = f.read()\n",
    "    numbers = np.frombuffer(buf, dtype=np.dtype('uint32').newbyteorder('B'))\n",
    "    s = 0\n",
    "    mxN = float(\"-inf\")\n",
    "    mnN = float(\"inf\")\n",
    "    for n in tqdm(numbers):\n",
    "        s += n\n",
    "        mxN = max(n, mxN)\n",
    "        mnN = min(n, mnN)\n",
    "    print(s, mxN, mnN)"
   ]
  },
  {
   "cell_type": "markdown",
   "metadata": {},
   "source": [
    "### MMap и последовательное чтение"
   ]
  },
  {
   "cell_type": "code",
   "execution_count": 58,
   "metadata": {},
   "outputs": [
    {
     "name": "stderr",
     "output_type": "stream",
     "text": [
      "100%|██████████| 536870912/536870912 [08:59<00:00, 995437.87it/s] "
     ]
    },
    {
     "name": "stdout",
     "output_type": "stream",
     "text": [
      "1152935057642425099 4294967292 35\n",
      "CPU times: user 8min 53s, sys: 4.69 s, total: 8min 57s\n",
      "Wall time: 9min 9s\n"
     ]
    },
    {
     "name": "stderr",
     "output_type": "stream",
     "text": [
      "\n"
     ]
    }
   ],
   "source": [
    "%%time\n",
    "f_name = \"numbers.txt\"\n",
    "with open(f_name, 'r+b') as f:\n",
    "    with mmap.mmap(f.fileno(), length=0, offset=0, access=mmap.ACCESS_READ) as mm:\n",
    "        buf = mm.read()\n",
    "        numbers = np.frombuffer(buf, dtype=np.dtype('uint32').newbyteorder('B'))\n",
    "        s = 0\n",
    "        mxN = float(\"-inf\")\n",
    "        mnN = float(\"inf\")\n",
    "        for n in tqdm(numbers):\n",
    "            s += n\n",
    "            mxN = max(n, mxN)\n",
    "            mnN = min(n, mnN)\n",
    "        print(s, mxN, mnN)"
   ]
  },
  {
   "cell_type": "markdown",
   "metadata": {},
   "source": [
    "### Многопоточное"
   ]
  },
  {
   "cell_type": "code",
   "execution_count": 60,
   "metadata": {},
   "outputs": [
    {
     "ename": "NameError",
     "evalue": "name 'count' is not defined",
     "output_type": "error",
     "traceback": [
      "\u001b[0;31m---------------------------------------------------------------------------\u001b[0m",
      "\u001b[0;31mNameError\u001b[0m                                 Traceback (most recent call last)",
      "\u001b[0;32m<timed exec>\u001b[0m in \u001b[0;36m<module>\u001b[0;34m\u001b[0m\n",
      "\u001b[0;31mNameError\u001b[0m: name 'count' is not defined"
     ]
    }
   ],
   "source": [
    "%%time\n",
    "import concurrent.futures\n",
    "\n",
    "\n",
    "n_workers = 8\n",
    "\n",
    "    \n",
    "def get_statistics(ls):\n",
    "    ls = list(ls)\n",
    "    return sum(ls), min(ls) if len(ls) else float(\"inf\"), max(ls) if len(ls) else float(\"-inf\")\n",
    "\n",
    "\n",
    "with open('numbers.txt', 'r+b') as f:\n",
    "    with mmap.mmap(f.fileno(), length=0, access=mmap.ACCESS_READ) as mm:\n",
    "        delt = int(count / n_workers)\n",
    "        buf = mm.read()\n",
    "        numbers = np.frombuffer(buf, dtype=np.dtype('uint32').newbyteorder('B'))\n",
    "        ls = (numbers[i:i + delt] for _ in range(0, count, delt))\n",
    "        \n",
    "        with concurrent.futures.ProcessPoolExecutor(max_workers=n_workers) as executor:\n",
    "            arr = executor.map(get_statistics, ls)\n",
    "        \n",
    "        ans = 0\n",
    "        mxN = float(\"-inf\")\n",
    "        mnN = float(\"inf\")\n",
    "        for s, mn, mx in arr:\n",
    "            ans += s\n",
    "            mxN = max(mx, mxN)\n",
    "            mnN = min(mn, mnN)\n",
    "        print(ans, mxN, mnN)"
   ]
  },
  {
   "cell_type": "code",
   "execution_count": null,
   "metadata": {},
   "outputs": [],
   "source": []
  }
 ],
 "metadata": {
  "kernelspec": {
   "display_name": "Python 3",
   "language": "python",
   "name": "python3"
  },
  "language_info": {
   "codemirror_mode": {
    "name": "ipython",
    "version": 3
   },
   "file_extension": ".py",
   "mimetype": "text/x-python",
   "name": "python",
   "nbconvert_exporter": "python",
   "pygments_lexer": "ipython3",
   "version": "3.8.2"
  }
 },
 "nbformat": 4,
 "nbformat_minor": 4
}
